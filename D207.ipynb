{
 "cells": [
  {
   "cell_type": "code",
   "execution_count": 1,
   "metadata": {},
   "outputs": [],
   "source": [
    "import pandas as pd\n",
    "import numpy as np\n",
    "pd.set_option('display.max_columns', None)\n",
    "from scipy import stats\n",
    "import matplotlib.pyplot as plt\n",
    "from IPython.display import Image\n",
    "from IPython.core.display import HTML\n",
    "import seaborn as sns\n",
    "from scipy.stats import weibull_min\n"
   ]
  },
  {
   "cell_type": "code",
   "execution_count": 2,
   "metadata": {},
   "outputs": [],
   "source": [
    "df = pd.read_csv(r\"altered_Med_data.csv\")"
   ]
  },
  {
   "cell_type": "code",
   "execution_count": 3,
   "metadata": {},
   "outputs": [],
   "source": [
    "pd.options.display.float_format = '{:,.0f}'.format\n",
    "df['Initial_Days'].dtypes\n",
    "df['Initial_Days'] = df['Initial_Days'].astype(int)"
   ]
  },
  {
   "cell_type": "code",
   "execution_count": 4,
   "metadata": {},
   "outputs": [],
   "source": [
    "#df.head(5)"
   ]
  },
  {
   "cell_type": "code",
   "execution_count": 5,
   "metadata": {},
   "outputs": [],
   "source": [
    "#df.describe()"
   ]
  },
  {
   "cell_type": "code",
   "execution_count": 6,
   "metadata": {},
   "outputs": [],
   "source": [
    "#df.rename(columns={ df.columns[0]: \"Original_order\" }, inplace = True)\n"
   ]
  },
  {
   "cell_type": "code",
   "execution_count": 7,
   "metadata": {},
   "outputs": [],
   "source": [
    "#df.describe()"
   ]
  },
  {
   "cell_type": "code",
   "execution_count": 8,
   "metadata": {},
   "outputs": [
    {
     "data": {
      "text/plain": [
       "(10000, 76)"
      ]
     },
     "execution_count": 8,
     "metadata": {},
     "output_type": "execute_result"
    }
   ],
   "source": [
    "df.shape"
   ]
  },
  {
   "cell_type": "code",
   "execution_count": 9,
   "metadata": {},
   "outputs": [],
   "source": [
    "#df.head(5)"
   ]
  },
  {
   "cell_type": "markdown",
   "metadata": {},
   "source": [
    "This section will run the code to apply some of the analysis techniques required,\n",
    "First will be the Chi-square test of the ratios of two populations. This example will test the proportion of male patients who were readmitted vs the proportion of female patients who were readmitted.\n",
    "\n",
    "Approach: The difference in population proportion needs t-test. Also, the population follows a binomial distribution here. We can just pass on the two population quantities with the appropriate binomial distribution parameters to the t-test function.\n",
    "We can use thettest_ind() function from Statsmodels. The function returns three values: (a) test statistic, (b) p-value of the t-test, and (c) degrees of freedom used in the t-test."
   ]
  },
  {
   "cell_type": "code",
   "execution_count": 10,
   "metadata": {},
   "outputs": [],
   "source": [
    "import scipy.stats.distributions as dist"
   ]
  },
  {
   "cell_type": "code",
   "execution_count": 11,
   "metadata": {},
   "outputs": [],
   "source": [
    "#df.head()"
   ]
  },
  {
   "cell_type": "code",
   "execution_count": 12,
   "metadata": {},
   "outputs": [
    {
     "data": {
      "text/plain": [
       "Female                 50\n",
       "Male                   48\n",
       "Prefer not to answer    2\n",
       "Name: Gender, dtype: float64"
      ]
     },
     "execution_count": 12,
     "metadata": {},
     "output_type": "execute_result"
    }
   ],
   "source": [
    "df['Gender'].value_counts(normalize=True) * 100"
   ]
  },
  {
   "cell_type": "code",
   "execution_count": 13,
   "metadata": {},
   "outputs": [],
   "source": [
    "to_drop = ['Prefer not to answer']\n",
    "df = df[~df['Gender'].isin(to_drop)]"
   ]
  },
  {
   "cell_type": "code",
   "execution_count": 14,
   "metadata": {},
   "outputs": [],
   "source": [
    "df = df.dropna(subset=['ReAdmis']) #drop nan values"
   ]
  },
  {
   "cell_type": "code",
   "execution_count": 15,
   "metadata": {},
   "outputs": [
    {
     "data": {
      "text/plain": [
       "Yes    3586\n",
       "No     6200\n",
       "Name: ReAdmis, dtype: int64"
      ]
     },
     "execution_count": 15,
     "metadata": {},
     "output_type": "execute_result"
    }
   ],
   "source": [
    "df['ReAdmis'].value_counts(ascending=True)"
   ]
  },
  {
   "cell_type": "code",
   "execution_count": 16,
   "metadata": {},
   "outputs": [
    {
     "data": {
      "text/plain": [
       "No    63\n",
       "Yes   37\n",
       "Name: ReAdmis, dtype: float64"
      ]
     },
     "execution_count": 16,
     "metadata": {},
     "output_type": "execute_result"
    }
   ],
   "source": [
    "df['ReAdmis'].value_counts(normalize=True) * 100"
   ]
  },
  {
   "cell_type": "code",
   "execution_count": 17,
   "metadata": {},
   "outputs": [],
   "source": [
    "df['women_admis'] = (df['Gender'] == 'Female') & (df['ReAdmis'] == 'Yes')\n",
    "df['men_admis'] = (df['Gender'] == 'Male') & (df['ReAdmis'] == 'Yes')\n"
   ]
  },
  {
   "cell_type": "code",
   "execution_count": 18,
   "metadata": {},
   "outputs": [
    {
     "data": {
      "text/plain": [
       "False    7973\n",
       "True     1813\n",
       "Name: women_admis, dtype: int64"
      ]
     },
     "execution_count": 18,
     "metadata": {},
     "output_type": "execute_result"
    }
   ],
   "source": [
    "df['women_admis'].value_counts()"
   ]
  },
  {
   "cell_type": "code",
   "execution_count": 19,
   "metadata": {},
   "outputs": [
    {
     "data": {
      "text/plain": [
       "False    8013\n",
       "True     1773\n",
       "Name: men_admis, dtype: int64"
      ]
     },
     "execution_count": 19,
     "metadata": {},
     "output_type": "execute_result"
    }
   ],
   "source": [
    "df['men_admis'].value_counts()"
   ]
  },
  {
   "cell_type": "code",
   "execution_count": 20,
   "metadata": {},
   "outputs": [],
   "source": [
    "df['readmis_by_gender'] = np.where(df['women_admis']==True,'female',\n",
    "np.where(df['men_admis']==True,'male',None))"
   ]
  },
  {
   "cell_type": "code",
   "execution_count": 21,
   "metadata": {},
   "outputs": [],
   "source": [
    "#df.head(5)"
   ]
  },
  {
   "cell_type": "markdown",
   "metadata": {},
   "source": [
    "Counts of ReAdmis by Sex"
   ]
  },
  {
   "cell_type": "code",
   "execution_count": 22,
   "metadata": {},
   "outputs": [
    {
     "data": {
      "text/plain": [
       "female    1813\n",
       "male      1773\n",
       "Name: readmis_by_gender, dtype: int64"
      ]
     },
     "execution_count": 22,
     "metadata": {},
     "output_type": "execute_result"
    }
   ],
   "source": [
    "gender_ratio = df['readmis_by_gender'].value_counts()\n",
    "df['readmis_by_gender'].value_counts()"
   ]
  },
  {
   "cell_type": "code",
   "execution_count": 23,
   "metadata": {},
   "outputs": [
    {
     "name": "stdout",
     "output_type": "stream",
     "text": [
      "1813\n",
      "1773\n",
      "count of women readmitted over count of men: 1.0225606316976876\n"
     ]
    }
   ],
   "source": [
    "men_yes_count = len(df[(df['Gender'] == 'Male') & (df['ReAdmis'] == 'Yes')])\n",
    "women_yes_count = len(df[(df['Gender'] == 'Female') & (df['ReAdmis'] == 'Yes')])\n",
    "df.describe()\n",
    "print(women_yes_count)\n",
    "print(men_yes_count)\n",
    "print('count of women readmitted over count of men: ' +\n",
    "      str(women_yes_count / men_yes_count))"
   ]
  },
  {
   "cell_type": "code",
   "execution_count": 24,
   "metadata": {},
   "outputs": [],
   "source": [
    "df['ReAdmis'].value_counts(ascending=True)\n",
    "\n",
    "readmis_rate = df['ReAdmis'].value_counts()"
   ]
  },
  {
   "cell_type": "code",
   "execution_count": 25,
   "metadata": {},
   "outputs": [
    {
     "data": {
      "text/plain": [
       "No    63\n",
       "Yes   37\n",
       "Name: ReAdmis, dtype: float64"
      ]
     },
     "execution_count": 25,
     "metadata": {},
     "output_type": "execute_result"
    }
   ],
   "source": [
    "df['ReAdmis'].value_counts(normalize=True) * 100"
   ]
  },
  {
   "cell_type": "code",
   "execution_count": 26,
   "metadata": {},
   "outputs": [
    {
     "data": {
      "text/plain": [
       "9786"
      ]
     },
     "execution_count": 26,
     "metadata": {},
     "output_type": "execute_result"
    }
   ],
   "source": [
    "df.shape[0]"
   ]
  },
  {
   "cell_type": "raw",
   "metadata": {},
   "source": [
    "Contigency table, provides a cross tab of the pertinent data"
   ]
  },
  {
   "cell_type": "code",
   "execution_count": 27,
   "metadata": {},
   "outputs": [
    {
     "name": "stdout",
     "output_type": "stream",
     "text": [
      "Gender   Female  Male\n",
      "ReAdmis              \n",
      "No         3205  2995\n",
      "Yes        1813  1773\n"
     ]
    }
   ],
   "source": [
    "contingency_table = pd.crosstab(df.ReAdmis,df.Gender) #Contingency Table\n",
    "print(contingency_table)"
   ]
  },
  {
   "cell_type": "code",
   "execution_count": 28,
   "metadata": {},
   "outputs": [
    {
     "name": "stdout",
     "output_type": "stream",
     "text": [
      "No     6200\n",
      "Yes    3586\n",
      "Name: ReAdmis, dtype: int64\n"
     ]
    }
   ],
   "source": [
    "readmis_rate2 = df['ReAdmis'].value_counts()\n",
    "print(readmis_rate2)"
   ]
  },
  {
   "cell_type": "markdown",
   "metadata": {},
   "source": [
    "Contigency table, converted into proportions"
   ]
  },
  {
   "cell_type": "code",
   "execution_count": 29,
   "metadata": {},
   "outputs": [
    {
     "data": {
      "text/html": [
       "<div>\n",
       "<style scoped>\n",
       "    .dataframe tbody tr th:only-of-type {\n",
       "        vertical-align: middle;\n",
       "    }\n",
       "\n",
       "    .dataframe tbody tr th {\n",
       "        vertical-align: top;\n",
       "    }\n",
       "\n",
       "    .dataframe thead th {\n",
       "        text-align: right;\n",
       "    }\n",
       "</style>\n",
       "<table border=\"1\" class=\"dataframe\">\n",
       "  <thead>\n",
       "    <tr style=\"text-align: right;\">\n",
       "      <th>Gender</th>\n",
       "      <th>Female</th>\n",
       "      <th>Male</th>\n",
       "    </tr>\n",
       "    <tr>\n",
       "      <th>ReAdmis</th>\n",
       "      <th></th>\n",
       "      <th></th>\n",
       "    </tr>\n",
       "  </thead>\n",
       "  <tbody>\n",
       "    <tr>\n",
       "      <th>No</th>\n",
       "      <td>1</td>\n",
       "      <td>1</td>\n",
       "    </tr>\n",
       "    <tr>\n",
       "      <th>Yes</th>\n",
       "      <td>0</td>\n",
       "      <td>0</td>\n",
       "    </tr>\n",
       "  </tbody>\n",
       "</table>\n",
       "</div>"
      ],
      "text/plain": [
       "Gender   Female  Male\n",
       "ReAdmis              \n",
       "No            1     1\n",
       "Yes           0     0"
      ]
     },
     "execution_count": 29,
     "metadata": {},
     "output_type": "execute_result"
    }
   ],
   "source": [
    "pd.crosstab(df.ReAdmis,df.Gender).apply(lambda r:r/r.sum(),axis=0)"
   ]
  },
  {
   "cell_type": "markdown",
   "metadata": {},
   "source": [
    "The proportion shows a large descrepency between male and female readmission rate. This now must be proven to be statisically sigficant"
   ]
  },
  {
   "cell_type": "code",
   "execution_count": 30,
   "metadata": {},
   "outputs": [],
   "source": [
    "# Perform Chi-square test\n",
    "chi= stats.chisquare(gender_ratio)"
   ]
  },
  {
   "cell_type": "code",
   "execution_count": 31,
   "metadata": {},
   "outputs": [
    {
     "data": {
      "text/html": [
       "<img src=\"https://miro.medium.com/max/436/1*isX80R6ZkHkvLEBxn_lbDQ.png\"/>"
      ],
      "text/plain": [
       "<IPython.core.display.Image object>"
      ]
     },
     "execution_count": 31,
     "metadata": {},
     "output_type": "execute_result"
    }
   ],
   "source": [
    "Image(url= \"https://miro.medium.com/max/436/1*isX80R6ZkHkvLEBxn_lbDQ.png\")"
   ]
  },
  {
   "cell_type": "markdown",
   "metadata": {},
   "source": [
    "Hypothesis: The above difference of proportions will be zero or not equal to zero (a two tailed test will be required)."
   ]
  },
  {
   "cell_type": "code",
   "execution_count": 32,
   "metadata": {},
   "outputs": [
    {
     "name": "stdout",
     "output_type": "stream",
     "text": [
      "0.5041548132177779\n",
      "No significant difference between sexes found\n"
     ]
    }
   ],
   "source": [
    "# Test significance\n",
    "alpha= 0.05\n",
    "print(chi[1])\n",
    "if chi[1] < alpha:\n",
    "    print(\"Difference between sexes is statistically significant\")\n",
    "else:\n",
    "    print(\"No significant difference between sexes found\")"
   ]
  },
  {
   "cell_type": "markdown",
   "metadata": {},
   "source": [
    "This result tells us that there is not a significant difference in the readmission rate between the genders. There was 40 more women readmitted than men, representing a 1% difference. "
   ]
  },
  {
   "cell_type": "markdown",
   "metadata": {},
   "source": [
    "Part C: Univerariate analysis of two continuous variables and two cateogrical variables"
   ]
  },
  {
   "cell_type": "markdown",
   "metadata": {},
   "source": [
    "Univariate Analysis of the variable \"doc_visits\" which indicates how many times a patient has met with a doctor. The variable \"doc_visits\" is normally distributed  "
   ]
  },
  {
   "cell_type": "code",
   "execution_count": 33,
   "metadata": {},
   "outputs": [
    {
     "data": {
      "text/plain": [
       "{'whiskers': [<matplotlib.lines.Line2D at 0x225a429b0d0>,\n",
       "  <matplotlib.lines.Line2D at 0x225a429b430>],\n",
       " 'caps': [<matplotlib.lines.Line2D at 0x225a429b790>,\n",
       "  <matplotlib.lines.Line2D at 0x225a429baf0>],\n",
       " 'boxes': [<matplotlib.lines.Line2D at 0x225a4283d30>],\n",
       " 'medians': [<matplotlib.lines.Line2D at 0x225a429be50>],\n",
       " 'fliers': [<matplotlib.lines.Line2D at 0x225a42a4190>],\n",
       " 'means': []}"
      ]
     },
     "execution_count": 33,
     "metadata": {},
     "output_type": "execute_result"
    },
    {
     "data": {
      "image/png": "[encoded data removed]",
      "text/plain": [
       "<Figure size 432x288 with 1 Axes>"
      ]
     },
     "metadata": {
      "needs_background": "light"
     },
     "output_type": "display_data"
    }
   ],
   "source": [
    "#plt.scatter(df.index,df['doc_visits'])\n",
    "#plt.show()\n",
    "plt.boxplot(df.doc_visits)\n",
    "#plt.boxplot(df.doc_visits_z)"
   ]
  },
  {
   "cell_type": "code",
   "execution_count": 34,
   "metadata": {},
   "outputs": [
    {
     "data": {
      "text/plain": [
       "Text(0.5, 0, 'Specimen strength')"
      ]
     },
     "execution_count": 34,
     "metadata": {},
     "output_type": "execute_result"
    },
    {
     "data": {
      "image/png": "[encoded data removed]",
      "text/plain": [
       "<Figure size 432x288 with 1 Axes>"
      ]
     },
     "metadata": {
      "needs_background": "light"
     },
     "output_type": "display_data"
    }
   ],
   "source": [
    "plt.hist(df['doc_visits'], density=True, alpha=0.5, bins=20)\n",
    "visits = df['doc_visits']\n",
    "shape, loc, scale = weibull_min.fit(visits, floc=0)\n",
    "x = np.linspace(visits.min(), visits.max(), 100)\n",
    "plt.plot(x, weibull_min(shape, loc, scale).pdf(x))\n",
    "plt.title(\"Weibull fit on Doc_visits data\")\n",
    "plt.xlabel(\"Specimen strength\")"
   ]
  },
  {
   "cell_type": "code",
   "execution_count": 35,
   "metadata": {},
   "outputs": [
    {
     "data": {
      "text/plain": [
       "<matplotlib.axes._subplots.AxesSubplot at 0x225a48683d0>"
      ]
     },
     "execution_count": 35,
     "metadata": {},
     "output_type": "execute_result"
    },
    {
     "data": {
      "image/png": "[encoded data removed]",
      "text/plain": [
       "<Figure size 360x360 with 1 Axes>"
      ]
     },
     "metadata": {
      "needs_background": "light"
     },
     "output_type": "display_data"
    }
   ],
   "source": [
    "plt.figure(figsize=(5,5))\n",
    "df['doc_visits'].plot(kind='density')"
   ]
  },
  {
   "cell_type": "markdown",
   "metadata": {},
   "source": [
    "Univariate Analysis of the varible \"Initial_Days\", the number of days the patient was admitted for their initial stay. "
   ]
  },
  {
   "cell_type": "code",
   "execution_count": 36,
   "metadata": {},
   "outputs": [
    {
     "data": {
      "text/plain": [
       "{'whiskers': [<matplotlib.lines.Line2D at 0x225a510fe80>,\n",
       "  <matplotlib.lines.Line2D at 0x225a511e250>],\n",
       " 'caps': [<matplotlib.lines.Line2D at 0x225a511e5b0>,\n",
       "  <matplotlib.lines.Line2D at 0x225a511e910>],\n",
       " 'boxes': [<matplotlib.lines.Line2D at 0x225a510fb20>],\n",
       " 'medians': [<matplotlib.lines.Line2D at 0x225a511ec70>],\n",
       " 'fliers': [<matplotlib.lines.Line2D at 0x225a511ef70>],\n",
       " 'means': []}"
      ]
     },
     "execution_count": 36,
     "metadata": {},
     "output_type": "execute_result"
    },
    {
     "data": {
      "image/png": "[encoded data removed]",
      "text/plain": [
       "<Figure size 432x288 with 1 Axes>"
      ]
     },
     "metadata": {
      "needs_background": "light"
     },
     "output_type": "display_data"
    }
   ],
   "source": [
    "plt.boxplot(df.Initial_Days)"
   ]
  },
  {
   "cell_type": "code",
   "execution_count": 37,
   "metadata": {},
   "outputs": [
    {
     "data": {
      "text/plain": [
       "(array([ 336.,  321.,  327.,    0.,  311.,  298.,    0.,  314.,  312.,\n",
       "           0.,  251.,  242.,  198.,    0.,  185.,  189.,    0.,  161.,\n",
       "         155.,    0.,  154.,  105.,   91.,    0.,   90.,   65.,    0.,\n",
       "          65.,   44.,    0.,   37.,   24.,   29.,    0.,   20.,   18.,\n",
       "           0.,    8.,    9.,    0.,    6.,   10.,    2.,    0.,    2.,\n",
       "           3.,    0., 1034.,    2.,    0.,   18.,   27.,   25.,    0.,\n",
       "          26.,   26.,    0.,   41.,   53.,    0.,   36.,   58.,   50.,\n",
       "           0.,   64.,   63.,    0.,   86.,  101.,    0.,   88.,  106.,\n",
       "         134.,    0.,  131.,  123.,    0.,  112.,  152.,    0.,  147.,\n",
       "         176.,  181.,    0.,  141.,  177.,    0.,  194.,  177.,    0.,\n",
       "         210.,  220.,  200.,    0.,  170.,  209.,    0.,  224.,  206.,\n",
       "         216.]),\n",
       " array([ 1. ,  1.7,  2.4,  3.1,  3.8,  4.5,  5.2,  5.9,  6.6,  7.3,  8. ,\n",
       "         8.7,  9.4, 10.1, 10.8, 11.5, 12.2, 12.9, 13.6, 14.3, 15. , 15.7,\n",
       "        16.4, 17.1, 17.8, 18.5, 19.2, 19.9, 20.6, 21.3, 22. , 22.7, 23.4,\n",
       "        24.1, 24.8, 25.5, 26.2, 26.9, 27.6, 28.3, 29. , 29.7, 30.4, 31.1,\n",
       "        31.8, 32.5, 33.2, 33.9, 34.6, 35.3, 36. , 36.7, 37.4, 38.1, 38.8,\n",
       "        39.5, 40.2, 40.9, 41.6, 42.3, 43. , 43.7, 44.4, 45.1, 45.8, 46.5,\n",
       "        47.2, 47.9, 48.6, 49.3, 50. , 50.7, 51.4, 52.1, 52.8, 53.5, 54.2,\n",
       "        54.9, 55.6, 56.3, 57. , 57.7, 58.4, 59.1, 59.8, 60.5, 61.2, 61.9,\n",
       "        62.6, 63.3, 64. , 64.7, 65.4, 66.1, 66.8, 67.5, 68.2, 68.9, 69.6,\n",
       "        70.3, 71. ]),\n",
       " <a list of 100 Patch objects>)"
      ]
     },
     "execution_count": 37,
     "metadata": {},
     "output_type": "execute_result"
    },
    {
     "data": {
      "image/png": "[encoded data removed]",
      "text/plain": [
       "<Figure size 432x288 with 1 Axes>"
      ]
     },
     "metadata": {
      "needs_background": "light"
     },
     "output_type": "display_data"
    }
   ],
   "source": [
    "plt.hist(df['Initial_Days'], bins=100)"
   ]
  },
  {
   "cell_type": "code",
   "execution_count": 38,
   "metadata": {},
   "outputs": [],
   "source": [
    "dfo = pd.read_csv(r\"medical_data.csv\")"
   ]
  },
  {
   "cell_type": "code",
   "execution_count": 39,
   "metadata": {},
   "outputs": [],
   "source": [
    "dfo =  dfo[dfo['Initial_Days'].notna()]"
   ]
  },
  {
   "cell_type": "code",
   "execution_count": 40,
   "metadata": {},
   "outputs": [
    {
     "data": {
      "text/html": [
       "<div>\n",
       "<style scoped>\n",
       "    .dataframe tbody tr th:only-of-type {\n",
       "        vertical-align: middle;\n",
       "    }\n",
       "\n",
       "    .dataframe tbody tr th {\n",
       "        vertical-align: top;\n",
       "    }\n",
       "\n",
       "    .dataframe thead th {\n",
       "        text-align: right;\n",
       "    }\n",
       "</style>\n",
       "<table border=\"1\" class=\"dataframe\">\n",
       "  <thead>\n",
       "    <tr style=\"text-align: right;\">\n",
       "      <th></th>\n",
       "      <th>Unnamed: 0</th>\n",
       "      <th>ID</th>\n",
       "      <th>Customer_id</th>\n",
       "      <th>Interaction</th>\n",
       "      <th>UID</th>\n",
       "      <th>zip</th>\n",
       "      <th>Lat</th>\n",
       "      <th>Lng</th>\n",
       "      <th>City</th>\n",
       "      <th>State</th>\n",
       "      <th>Population</th>\n",
       "      <th>County</th>\n",
       "      <th>Area</th>\n",
       "      <th>Timezone</th>\n",
       "      <th>Job</th>\n",
       "      <th>Children</th>\n",
       "      <th>Age</th>\n",
       "      <th>Education</th>\n",
       "      <th>Employment</th>\n",
       "      <th>Income</th>\n",
       "      <th>Marital</th>\n",
       "      <th>ReAdmis</th>\n",
       "      <th>Gender</th>\n",
       "      <th>vitD_levels</th>\n",
       "      <th>doc_visits</th>\n",
       "      <th>full_meals_eaten</th>\n",
       "      <th>vitD_supp</th>\n",
       "      <th>Soft_drink</th>\n",
       "      <th>Initial_Admin</th>\n",
       "      <th>HighBlood</th>\n",
       "      <th>Stroke</th>\n",
       "      <th>Complication_Risk</th>\n",
       "      <th>Overweight</th>\n",
       "      <th>Arthritis</th>\n",
       "      <th>Diabetes</th>\n",
       "      <th>Hyperlipidemia</th>\n",
       "      <th>BackPain</th>\n",
       "      <th>Anxiety</th>\n",
       "      <th>Allergic_rhinitis</th>\n",
       "      <th>Reflux_esophagitis</th>\n",
       "      <th>Asthma</th>\n",
       "      <th>Services</th>\n",
       "      <th>Initial_Days</th>\n",
       "      <th>TotalCharge</th>\n",
       "      <th>Additional_Charges</th>\n",
       "      <th>item1</th>\n",
       "      <th>item2</th>\n",
       "      <th>item3</th>\n",
       "      <th>item4</th>\n",
       "      <th>item5</th>\n",
       "      <th>item6</th>\n",
       "      <th>item7</th>\n",
       "      <th>item8</th>\n",
       "    </tr>\n",
       "  </thead>\n",
       "  <tbody>\n",
       "    <tr>\n",
       "      <th>0</th>\n",
       "      <td>1</td>\n",
       "      <td>1</td>\n",
       "      <td>C412403</td>\n",
       "      <td>8cd49b13-f45a-4b47-a2bd-173ffa932c2f</td>\n",
       "      <td>3a83ddb66e2ae73798bdf1d705dc0932</td>\n",
       "      <td>35621</td>\n",
       "      <td>34</td>\n",
       "      <td>-87</td>\n",
       "      <td>Eva</td>\n",
       "      <td>AL</td>\n",
       "      <td>2951</td>\n",
       "      <td>Morgan</td>\n",
       "      <td>Suburban</td>\n",
       "      <td>America/Chicago</td>\n",
       "      <td>Psychologist, sport and exercise</td>\n",
       "      <td>1</td>\n",
       "      <td>53</td>\n",
       "      <td>Some College, Less than 1 Year</td>\n",
       "      <td>Full Time</td>\n",
       "      <td>86,576</td>\n",
       "      <td>Divorced</td>\n",
       "      <td>No</td>\n",
       "      <td>Male</td>\n",
       "      <td>18</td>\n",
       "      <td>6</td>\n",
       "      <td>0</td>\n",
       "      <td>0</td>\n",
       "      <td>NaN</td>\n",
       "      <td>Emergency Admission</td>\n",
       "      <td>Yes</td>\n",
       "      <td>No</td>\n",
       "      <td>Medium</td>\n",
       "      <td>0</td>\n",
       "      <td>Yes</td>\n",
       "      <td>Yes</td>\n",
       "      <td>No</td>\n",
       "      <td>Yes</td>\n",
       "      <td>1</td>\n",
       "      <td>Yes</td>\n",
       "      <td>No</td>\n",
       "      <td>Yes</td>\n",
       "      <td>Blood Work</td>\n",
       "      <td>11</td>\n",
       "      <td>3,191</td>\n",
       "      <td>17,939</td>\n",
       "      <td>3</td>\n",
       "      <td>3</td>\n",
       "      <td>2</td>\n",
       "      <td>2</td>\n",
       "      <td>4</td>\n",
       "      <td>3</td>\n",
       "      <td>3</td>\n",
       "      <td>4</td>\n",
       "    </tr>\n",
       "    <tr>\n",
       "      <th>1</th>\n",
       "      <td>2</td>\n",
       "      <td>2</td>\n",
       "      <td>Z919181</td>\n",
       "      <td>d2450b70-0337-4406-bdbb-bc1037f1734c</td>\n",
       "      <td>176354c5eef714957d486009feabf195</td>\n",
       "      <td>32446</td>\n",
       "      <td>31</td>\n",
       "      <td>-85</td>\n",
       "      <td>Marianna</td>\n",
       "      <td>FL</td>\n",
       "      <td>11303</td>\n",
       "      <td>Jackson</td>\n",
       "      <td>Urban</td>\n",
       "      <td>America/Chicago</td>\n",
       "      <td>Community development worker</td>\n",
       "      <td>3</td>\n",
       "      <td>51</td>\n",
       "      <td>Some College, 1 or More Years, No Degree</td>\n",
       "      <td>Full Time</td>\n",
       "      <td>46,806</td>\n",
       "      <td>Married</td>\n",
       "      <td>No</td>\n",
       "      <td>Female</td>\n",
       "      <td>19</td>\n",
       "      <td>4</td>\n",
       "      <td>2</td>\n",
       "      <td>1</td>\n",
       "      <td>No</td>\n",
       "      <td>Emergency Admission</td>\n",
       "      <td>Yes</td>\n",
       "      <td>No</td>\n",
       "      <td>High</td>\n",
       "      <td>1</td>\n",
       "      <td>No</td>\n",
       "      <td>No</td>\n",
       "      <td>No</td>\n",
       "      <td>No</td>\n",
       "      <td>nan</td>\n",
       "      <td>No</td>\n",
       "      <td>Yes</td>\n",
       "      <td>No</td>\n",
       "      <td>Intravenous</td>\n",
       "      <td>15</td>\n",
       "      <td>4,215</td>\n",
       "      <td>17,613</td>\n",
       "      <td>3</td>\n",
       "      <td>4</td>\n",
       "      <td>3</td>\n",
       "      <td>4</td>\n",
       "      <td>4</td>\n",
       "      <td>4</td>\n",
       "      <td>3</td>\n",
       "      <td>3</td>\n",
       "    </tr>\n",
       "    <tr>\n",
       "      <th>2</th>\n",
       "      <td>3</td>\n",
       "      <td>3</td>\n",
       "      <td>F995323</td>\n",
       "      <td>a2057123-abf5-4a2c-abad-8ffe33512562</td>\n",
       "      <td>e19a0fa00aeda885b8a436757e889bc9</td>\n",
       "      <td>57110</td>\n",
       "      <td>44</td>\n",
       "      <td>-97</td>\n",
       "      <td>Sioux Falls</td>\n",
       "      <td>SD</td>\n",
       "      <td>17125</td>\n",
       "      <td>Minnehaha</td>\n",
       "      <td>Suburban</td>\n",
       "      <td>America/Chicago</td>\n",
       "      <td>Chief Executive Officer</td>\n",
       "      <td>3</td>\n",
       "      <td>53</td>\n",
       "      <td>Some College, 1 or More Years, No Degree</td>\n",
       "      <td>Retired</td>\n",
       "      <td>14,370</td>\n",
       "      <td>Widowed</td>\n",
       "      <td>No</td>\n",
       "      <td>Female</td>\n",
       "      <td>17</td>\n",
       "      <td>4</td>\n",
       "      <td>1</td>\n",
       "      <td>0</td>\n",
       "      <td>No</td>\n",
       "      <td>Elective Admission</td>\n",
       "      <td>Yes</td>\n",
       "      <td>No</td>\n",
       "      <td>Medium</td>\n",
       "      <td>1</td>\n",
       "      <td>No</td>\n",
       "      <td>Yes</td>\n",
       "      <td>No</td>\n",
       "      <td>No</td>\n",
       "      <td>nan</td>\n",
       "      <td>No</td>\n",
       "      <td>No</td>\n",
       "      <td>No</td>\n",
       "      <td>Blood Work</td>\n",
       "      <td>5</td>\n",
       "      <td>2,178</td>\n",
       "      <td>17,505</td>\n",
       "      <td>2</td>\n",
       "      <td>4</td>\n",
       "      <td>4</td>\n",
       "      <td>4</td>\n",
       "      <td>3</td>\n",
       "      <td>4</td>\n",
       "      <td>3</td>\n",
       "      <td>3</td>\n",
       "    </tr>\n",
       "    <tr>\n",
       "      <th>3</th>\n",
       "      <td>4</td>\n",
       "      <td>4</td>\n",
       "      <td>A879973</td>\n",
       "      <td>1dec528d-eb34-4079-adce-0d7a40e82205</td>\n",
       "      <td>cd17d7b6d152cb6f23957346d11c3f07</td>\n",
       "      <td>56072</td>\n",
       "      <td>44</td>\n",
       "      <td>-94</td>\n",
       "      <td>New Richland</td>\n",
       "      <td>MN</td>\n",
       "      <td>2162</td>\n",
       "      <td>Waseca</td>\n",
       "      <td>Suburban</td>\n",
       "      <td>America/Chicago</td>\n",
       "      <td>Early years teacher</td>\n",
       "      <td>0</td>\n",
       "      <td>78</td>\n",
       "      <td>GED or Alternative Credential</td>\n",
       "      <td>Retired</td>\n",
       "      <td>39,741</td>\n",
       "      <td>Married</td>\n",
       "      <td>No</td>\n",
       "      <td>Male</td>\n",
       "      <td>17</td>\n",
       "      <td>4</td>\n",
       "      <td>1</td>\n",
       "      <td>0</td>\n",
       "      <td>No</td>\n",
       "      <td>Elective Admission</td>\n",
       "      <td>No</td>\n",
       "      <td>Yes</td>\n",
       "      <td>Medium</td>\n",
       "      <td>0</td>\n",
       "      <td>Yes</td>\n",
       "      <td>No</td>\n",
       "      <td>No</td>\n",
       "      <td>No</td>\n",
       "      <td>nan</td>\n",
       "      <td>No</td>\n",
       "      <td>Yes</td>\n",
       "      <td>Yes</td>\n",
       "      <td>Blood Work</td>\n",
       "      <td>2</td>\n",
       "      <td>2,465</td>\n",
       "      <td>12,993</td>\n",
       "      <td>3</td>\n",
       "      <td>5</td>\n",
       "      <td>5</td>\n",
       "      <td>3</td>\n",
       "      <td>4</td>\n",
       "      <td>5</td>\n",
       "      <td>5</td>\n",
       "      <td>5</td>\n",
       "    </tr>\n",
       "    <tr>\n",
       "      <th>4</th>\n",
       "      <td>5</td>\n",
       "      <td>5</td>\n",
       "      <td>C544523</td>\n",
       "      <td>5885f56b-d6da-43a3-8760-83583af94266</td>\n",
       "      <td>d2f0425877b10ed6bb381f3e2579424a</td>\n",
       "      <td>23181</td>\n",
       "      <td>38</td>\n",
       "      <td>-77</td>\n",
       "      <td>West Point</td>\n",
       "      <td>VA</td>\n",
       "      <td>5287</td>\n",
       "      <td>King William</td>\n",
       "      <td>Rural</td>\n",
       "      <td>America/New_York</td>\n",
       "      <td>Health promotion specialist</td>\n",
       "      <td>nan</td>\n",
       "      <td>22</td>\n",
       "      <td>Regular High School Diploma</td>\n",
       "      <td>Full Time</td>\n",
       "      <td>1,210</td>\n",
       "      <td>Widowed</td>\n",
       "      <td>No</td>\n",
       "      <td>Female</td>\n",
       "      <td>17</td>\n",
       "      <td>5</td>\n",
       "      <td>0</td>\n",
       "      <td>2</td>\n",
       "      <td>Yes</td>\n",
       "      <td>Elective Admission</td>\n",
       "      <td>No</td>\n",
       "      <td>No</td>\n",
       "      <td>Low</td>\n",
       "      <td>0</td>\n",
       "      <td>No</td>\n",
       "      <td>No</td>\n",
       "      <td>Yes</td>\n",
       "      <td>No</td>\n",
       "      <td>0</td>\n",
       "      <td>Yes</td>\n",
       "      <td>No</td>\n",
       "      <td>No</td>\n",
       "      <td>CT Scan</td>\n",
       "      <td>1</td>\n",
       "      <td>1,886</td>\n",
       "      <td>3,717</td>\n",
       "      <td>2</td>\n",
       "      <td>1</td>\n",
       "      <td>3</td>\n",
       "      <td>3</td>\n",
       "      <td>5</td>\n",
       "      <td>3</td>\n",
       "      <td>4</td>\n",
       "      <td>3</td>\n",
       "    </tr>\n",
       "  </tbody>\n",
       "</table>\n",
       "</div>"
      ],
      "text/plain": [
       "   Unnamed: 0  ID Customer_id                           Interaction  \\\n",
       "0           1   1     C412403  8cd49b13-f45a-4b47-a2bd-173ffa932c2f   \n",
       "1           2   2     Z919181  d2450b70-0337-4406-bdbb-bc1037f1734c   \n",
       "2           3   3     F995323  a2057123-abf5-4a2c-abad-8ffe33512562   \n",
       "3           4   4     A879973  1dec528d-eb34-4079-adce-0d7a40e82205   \n",
       "4           5   5     C544523  5885f56b-d6da-43a3-8760-83583af94266   \n",
       "\n",
       "                                UID    zip  Lat  Lng          City State  \\\n",
       "0  3a83ddb66e2ae73798bdf1d705dc0932  35621   34  -87           Eva    AL   \n",
       "1  176354c5eef714957d486009feabf195  32446   31  -85      Marianna    FL   \n",
       "2  e19a0fa00aeda885b8a436757e889bc9  57110   44  -97   Sioux Falls    SD   \n",
       "3  cd17d7b6d152cb6f23957346d11c3f07  56072   44  -94  New Richland    MN   \n",
       "4  d2f0425877b10ed6bb381f3e2579424a  23181   38  -77    West Point    VA   \n",
       "\n",
       "   Population        County      Area          Timezone  \\\n",
       "0        2951        Morgan  Suburban   America/Chicago   \n",
       "1       11303       Jackson     Urban   America/Chicago   \n",
       "2       17125     Minnehaha  Suburban   America/Chicago   \n",
       "3        2162        Waseca  Suburban   America/Chicago   \n",
       "4        5287  King William     Rural  America/New_York   \n",
       "\n",
       "                                Job  Children  Age  \\\n",
       "0  Psychologist, sport and exercise         1   53   \n",
       "1      Community development worker         3   51   \n",
       "2           Chief Executive Officer         3   53   \n",
       "3               Early years teacher         0   78   \n",
       "4       Health promotion specialist       nan   22   \n",
       "\n",
       "                                  Education Employment  Income   Marital  \\\n",
       "0            Some College, Less than 1 Year  Full Time  86,576  Divorced   \n",
       "1  Some College, 1 or More Years, No Degree  Full Time  46,806   Married   \n",
       "2  Some College, 1 or More Years, No Degree    Retired  14,370   Widowed   \n",
       "3             GED or Alternative Credential    Retired  39,741   Married   \n",
       "4               Regular High School Diploma  Full Time   1,210   Widowed   \n",
       "\n",
       "  ReAdmis  Gender  vitD_levels  doc_visits  full_meals_eaten  vitD_supp  \\\n",
       "0      No    Male           18           6                 0          0   \n",
       "1      No  Female           19           4                 2          1   \n",
       "2      No  Female           17           4                 1          0   \n",
       "3      No    Male           17           4                 1          0   \n",
       "4      No  Female           17           5                 0          2   \n",
       "\n",
       "  Soft_drink        Initial_Admin HighBlood Stroke Complication_Risk  \\\n",
       "0        NaN  Emergency Admission       Yes     No            Medium   \n",
       "1         No  Emergency Admission       Yes     No              High   \n",
       "2         No   Elective Admission       Yes     No            Medium   \n",
       "3         No   Elective Admission        No    Yes            Medium   \n",
       "4        Yes   Elective Admission        No     No               Low   \n",
       "\n",
       "   Overweight Arthritis Diabetes Hyperlipidemia BackPain  Anxiety  \\\n",
       "0           0       Yes      Yes             No      Yes        1   \n",
       "1           1        No       No             No       No      nan   \n",
       "2           1        No      Yes             No       No      nan   \n",
       "3           0       Yes       No             No       No      nan   \n",
       "4           0        No       No            Yes       No        0   \n",
       "\n",
       "  Allergic_rhinitis Reflux_esophagitis Asthma     Services  Initial_Days  \\\n",
       "0               Yes                 No    Yes   Blood Work            11   \n",
       "1                No                Yes     No  Intravenous            15   \n",
       "2                No                 No     No   Blood Work             5   \n",
       "3                No                Yes    Yes   Blood Work             2   \n",
       "4               Yes                 No     No      CT Scan             1   \n",
       "\n",
       "   TotalCharge  Additional_Charges  item1  item2  item3  item4  item5  item6  \\\n",
       "0        3,191              17,939      3      3      2      2      4      3   \n",
       "1        4,215              17,613      3      4      3      4      4      4   \n",
       "2        2,178              17,505      2      4      4      4      3      4   \n",
       "3        2,465              12,993      3      5      5      3      4      5   \n",
       "4        1,886               3,717      2      1      3      3      5      3   \n",
       "\n",
       "   item7  item8  \n",
       "0      3      4  \n",
       "1      3      3  \n",
       "2      3      3  \n",
       "3      5      5  \n",
       "4      4      3  "
      ]
     },
     "execution_count": 40,
     "metadata": {},
     "output_type": "execute_result"
    }
   ],
   "source": [
    "dfo.head(5)"
   ]
  },
  {
   "cell_type": "code",
   "execution_count": 41,
   "metadata": {},
   "outputs": [
    {
     "data": {
      "text/plain": [
       "(array([354., 326., 338., 321., 316., 323., 310., 263., 242., 218., 189.,\n",
       "        190., 158., 169., 146.,  99.,  89.,  93.,  66.,  55.,  51.,  32.,\n",
       "         28.,  23.,  23.,  14.,   7.,   7.,   7.,   8.,   4.,   1.,   2.,\n",
       "          1.,   9.,  25.,  26.,  27.,  27.,  38.,  43.,  49.,  51.,  50.,\n",
       "         74.,  54.,  94.,  90.,  89., 109., 126., 136., 137., 120., 136.,\n",
       "        152., 179., 192., 159., 170., 201., 202., 211., 220., 214., 177.,\n",
       "        216., 231., 211., 226.]),\n",
       " array([ 1.00198092,  2.01597385,  3.02996679,  4.04395972,  5.05795266,\n",
       "         6.07194559,  7.08593852,  8.09993146,  9.11392439, 10.12791733,\n",
       "        11.14191026, 12.15590319, 13.16989613, 14.18388906, 15.197882  ,\n",
       "        16.21187493, 17.22586786, 18.2398608 , 19.25385373, 20.26784667,\n",
       "        21.2818396 , 22.29583253, 23.30982547, 24.3238184 , 25.33781134,\n",
       "        26.35180427, 27.3657972 , 28.37979014, 29.39378307, 30.40777601,\n",
       "        31.42176894, 32.43576187, 33.44975481, 34.46374774, 35.47774068,\n",
       "        36.49173361, 37.50572654, 38.51971948, 39.53371241, 40.54770535,\n",
       "        41.56169828, 42.57569121, 43.58968415, 44.60367708, 45.61767002,\n",
       "        46.63166295, 47.64565588, 48.65964882, 49.67364175, 50.68763469,\n",
       "        51.70162762, 52.71562055, 53.72961349, 54.74360642, 55.75759936,\n",
       "        56.77159229, 57.78558522, 58.79957816, 59.81357109, 60.82756403,\n",
       "        61.84155696, 62.85554989, 63.86954283, 64.88353576, 65.8975287 ,\n",
       "        66.91152163, 67.92551456, 68.9395075 , 69.95350043, 70.96749337,\n",
       "        71.9814863 ]),\n",
       " <a list of 70 Patch objects>)"
      ]
     },
     "execution_count": 41,
     "metadata": {},
     "output_type": "execute_result"
    },
    {
     "data": {
      "image/png": "[encoded data removed]",
      "text/plain": [
       "<Figure size 432x288 with 1 Axes>"
      ]
     },
     "metadata": {
      "needs_background": "light"
     },
     "output_type": "display_data"
    }
   ],
   "source": [
    "plt.hist(dfo['Initial_Days'], bins=70)"
   ]
  },
  {
   "cell_type": "markdown",
   "metadata": {},
   "source": [
    "The \"Initial_Days\" shows a bimodal distribution "
   ]
  },
  {
   "cell_type": "code",
   "execution_count": 42,
   "metadata": {},
   "outputs": [
    {
     "data": {
      "text/plain": [
       "<matplotlib.axes._subplots.AxesSubplot at 0x225a56bfeb0>"
      ]
     },
     "execution_count": 42,
     "metadata": {},
     "output_type": "execute_result"
    },
    {
     "data": {
      "image/png": "[encoded data removed]",
      "text/plain": [
       "<Figure size 360x360 with 1 Axes>"
      ]
     },
     "metadata": {
      "needs_background": "light"
     },
     "output_type": "display_data"
    }
   ],
   "source": [
    "plt.figure(figsize=(5,5))\n",
    "df['Initial_Days'].plot(kind='density')"
   ]
  },
  {
   "cell_type": "markdown",
   "metadata": {},
   "source": [
    "Univariate Analysis of the variable \"State\" which represents the state where the patient lives"
   ]
  },
  {
   "cell_type": "code",
   "execution_count": 43,
   "metadata": {},
   "outputs": [
    {
     "data": {
      "text/plain": [
       "(array([1228., 1391., 1381.,  879.,  695.,  805., 1339.,  596.,  315.,\n",
       "         315.]),\n",
       " array([ 0. ,  5.1, 10.2, 15.3, 20.4, 25.5, 30.6, 35.7, 40.8, 45.9, 51. ]),\n",
       " <a list of 10 Patch objects>)"
      ]
     },
     "execution_count": 43,
     "metadata": {},
     "output_type": "execute_result"
    },
    {
     "data": {
      "image/png": "[encoded data removed]",
      "text/plain": [
       "<Figure size 2880x1800 with 1 Axes>"
      ]
     },
     "metadata": {},
     "output_type": "display_data"
    }
   ],
   "source": [
    "plt.figure(figsize=(40,25),facecolor='white',edgecolor='blue', linewidth=1)#change your figure size as per your desire here\n",
    "plt.hist(dfo['State'])"
   ]
  },
  {
   "cell_type": "code",
   "execution_count": null,
   "metadata": {},
   "outputs": [],
   "source": []
  },
  {
   "cell_type": "code",
   "execution_count": 44,
   "metadata": {},
   "outputs": [
    {
     "data": {
      "text/plain": [
       "([<matplotlib.patches.Wedge at 0x225a5291e80>,\n",
       "  <matplotlib.patches.Wedge at 0x225a5134c70>,\n",
       "  <matplotlib.patches.Wedge at 0x225a56aaa90>,\n",
       "  <matplotlib.patches.Wedge at 0x225a5602640>,\n",
       "  <matplotlib.patches.Wedge at 0x225a5627280>,\n",
       "  <matplotlib.patches.Wedge at 0x225a5660f40>,\n",
       "  <matplotlib.patches.Wedge at 0x225a5670b20>,\n",
       "  <matplotlib.patches.Wedge at 0x225a567db20>,\n",
       "  <matplotlib.patches.Wedge at 0x225a52a54c0>,\n",
       "  <matplotlib.patches.Wedge at 0x225a52a5970>,\n",
       "  <matplotlib.patches.Wedge at 0x225a51af520>,\n",
       "  <matplotlib.patches.Wedge at 0x225a56bf730>,\n",
       "  <matplotlib.patches.Wedge at 0x225a56bfa60>,\n",
       "  <matplotlib.patches.Wedge at 0x225a5619eb0>,\n",
       "  <matplotlib.patches.Wedge at 0x225a52adb50>,\n",
       "  <matplotlib.patches.Wedge at 0x225a59f5c40>,\n",
       "  <matplotlib.patches.Wedge at 0x225a56c54f0>,\n",
       "  <matplotlib.patches.Wedge at 0x225a56c5700>,\n",
       "  <matplotlib.patches.Wedge at 0x225a56bce80>,\n",
       "  <matplotlib.patches.Wedge at 0x225a56bc760>,\n",
       "  <matplotlib.patches.Wedge at 0x225a6e792e0>,\n",
       "  <matplotlib.patches.Wedge at 0x225a6e976d0>,\n",
       "  <matplotlib.patches.Wedge at 0x225a6e973d0>,\n",
       "  <matplotlib.patches.Wedge at 0x225a6e7ef10>,\n",
       "  <matplotlib.patches.Wedge at 0x225a6e7e340>,\n",
       "  <matplotlib.patches.Wedge at 0x225a6e7ed90>,\n",
       "  <matplotlib.patches.Wedge at 0x225a59fc340>,\n",
       "  <matplotlib.patches.Wedge at 0x225a5a38b80>,\n",
       "  <matplotlib.patches.Wedge at 0x225a6eb3f40>,\n",
       "  <matplotlib.patches.Wedge at 0x225a6eb36a0>,\n",
       "  <matplotlib.patches.Wedge at 0x225a6eb3b80>,\n",
       "  <matplotlib.patches.Wedge at 0x225a6eb6fa0>,\n",
       "  <matplotlib.patches.Wedge at 0x225a6eb66a0>,\n",
       "  <matplotlib.patches.Wedge at 0x225a6eb6100>,\n",
       "  <matplotlib.patches.Wedge at 0x225a6eb67c0>,\n",
       "  <matplotlib.patches.Wedge at 0x225a6ea8070>,\n",
       "  <matplotlib.patches.Wedge at 0x225a6ea88e0>,\n",
       "  <matplotlib.patches.Wedge at 0x225a6e9ef40>,\n",
       "  <matplotlib.patches.Wedge at 0x225a6e9e490>,\n",
       "  <matplotlib.patches.Wedge at 0x225a6e9e850>,\n",
       "  <matplotlib.patches.Wedge at 0x225a6e90a90>,\n",
       "  <matplotlib.patches.Wedge at 0x225a6e90040>,\n",
       "  <matplotlib.patches.Wedge at 0x225a6e90d90>,\n",
       "  <matplotlib.patches.Wedge at 0x225a5a45a00>,\n",
       "  <matplotlib.patches.Wedge at 0x225a56b6a90>,\n",
       "  <matplotlib.patches.Wedge at 0x225a7b86190>,\n",
       "  <matplotlib.patches.Wedge at 0x225a7b86610>,\n",
       "  <matplotlib.patches.Wedge at 0x225a7b86a90>,\n",
       "  <matplotlib.patches.Wedge at 0x225a7b86f10>,\n",
       "  <matplotlib.patches.Wedge at 0x225a7b933d0>,\n",
       "  <matplotlib.patches.Wedge at 0x225a7b93850>,\n",
       "  <matplotlib.patches.Wedge at 0x225a7b93cd0>],\n",
       " [Text(1.0836948532329036, 0.18869410450916502, ''),\n",
       "  Text(0.9563141621355337, 0.5435652889019058, ''),\n",
       "  Text(0.7184525282354791, 0.832962162809361, ''),\n",
       "  Text(0.40778537184924785, 1.0216217942593877, ''),\n",
       "  Text(0.08713228043956599, 1.096543645143868, ''),\n",
       "  Text(-0.1970379754796809, 1.082208869035395, ''),\n",
       "  Text(-0.4319378403209412, 1.0116470244600542, ''),\n",
       "  Text(-0.6225665743097542, 0.9068687118608832, ''),\n",
       "  Text(-0.7791895983896409, 0.7764428953641024, ''),\n",
       "  Text(-0.903658954117281, 0.6272164655393399, ''),\n",
       "  Text(-0.998153924275682, 0.46226479798169406, ''),\n",
       "  Text(-1.0623811852854836, 0.28521258238621094, ''),\n",
       "  Text(-1.0946620153102202, 0.10823618728025983, ''),\n",
       "  Text(-1.0981229709108877, -0.0642334862657001, ''),\n",
       "  Text(-1.076936238584983, -0.22407217145917277, ''),\n",
       "  Text(-1.0364510263295341, -0.3684688182471555, ''),\n",
       "  Text(-0.9781599439157458, -0.5031929293210957, ''),\n",
       "  Text(-0.9040615060049172, -0.626636093247206, ''),\n",
       "  Text(-0.8149499121769862, -0.7388211154553738, ''),\n",
       "  Text(-0.7155066180027652, -0.8354940332487392, ''),\n",
       "  Text(-0.608224729922439, -0.9165493319569744, ''),\n",
       "  Text(-0.4924866016595489, -0.9835938934264633, ''),\n",
       "  Text(-0.37079704731849755, -1.0356203694886867, ''),\n",
       "  Text(-0.2454615555810423, -1.072263318747655, ''),\n",
       "  Text(-0.1173691995331115, -1.0937204720589977, ''),\n",
       "  Text(0.009534429882672073, -1.0999586786087978, ''),\n",
       "  Text(0.13175434196413963, -1.0920809463467425, ''),\n",
       "  Text(0.2502782032494574, -1.0711492991073763, ''),\n",
       "  Text(0.358136071766416, -1.0400666104147949, ''),\n",
       "  Text(0.4497318186284634, -1.003863183562947, ''),\n",
       "  Text(0.5318589311367089, -0.9628738636862659, ''),\n",
       "  Text(0.6091071151049516, -0.915963166469331, ''),\n",
       "  Text(0.6805803228041506, -0.8641819392997045, ''),\n",
       "  Text(0.7455974925363461, -0.808754832519419, ''),\n",
       "  Text(0.8051550408196256, -0.7494833955750768, ''),\n",
       "  Text(0.8584712167563097, -0.6877697070974713, ''),\n",
       "  Text(0.9046645525027959, -0.6257651695683584, ''),\n",
       "  Text(0.9453064048455558, -0.5624907118859567, ''),\n",
       "  Text(0.9813705217468252, -0.49690230332165336, ''),\n",
       "  Text(1.0128907634731925, -0.42901317144196566, ''),\n",
       "  Text(1.0365692393273076, -0.3681361325385042, ''),\n",
       "  Text(1.053698381646435, -0.315784294282797, ''),\n",
       "  Text(1.0675924297177153, -0.2650403818466638, ''),\n",
       "  Text(1.0782829241868133, -0.21749927679680955, ''),\n",
       "  Text(1.0860845324825883, -0.17441441540789526, ''),\n",
       "  Text(1.0914777517867895, -0.1366613235500646, ''),\n",
       "  Text(1.0953018379680897, -0.10155729291254675, ''),\n",
       "  Text(1.0978231854037541, -0.06916829902458811, ''),\n",
       "  Text(1.0991838654874742, -0.042365432276966764, ''),\n",
       "  Text(1.0997301427404877, -0.024364177556127038, ''),\n",
       "  Text(1.0999137858575685, -0.013771843757148738, ''),\n",
       "  Text(1.0999904204097695, -0.0045907523063893375, '')])"
      ]
     },
     "execution_count": 44,
     "metadata": {},
     "output_type": "execute_result"
    },
    {
     "data": {
      "image/png": "[encoded data removed]",
      "text/plain": [
       "<Figure size 432x288 with 1 Axes>"
      ]
     },
     "metadata": {},
     "output_type": "display_data"
    }
   ],
   "source": [
    "plt.pie(df['State'].value_counts())"
   ]
  },
  {
   "cell_type": "code",
   "execution_count": 45,
   "metadata": {},
   "outputs": [
    {
     "data": {
      "image/png": "[encoded data removed]",
      "text/plain": [
       "<Figure size 1152x576 with 1 Axes>"
      ]
     },
     "metadata": {
      "needs_background": "light"
     },
     "output_type": "display_data"
    }
   ],
   "source": [
    "plt.figure(figsize=(16,8))\n",
    "sns.countplot(x='State', data=df)\n",
    "plt.show()"
   ]
  },
  {
   "cell_type": "markdown",
   "metadata": {},
   "source": [
    "Univariate analysis of variable \"Initial_Admin\" which catogorizes whether the patient was admitted under Emergency admission, elective admission, or observation admission"
   ]
  },
  {
   "cell_type": "code",
   "execution_count": 46,
   "metadata": {},
   "outputs": [
    {
     "data": {
      "image/png": "[encoded data removed]",
      "text/plain": [
       "<Figure size 1152x576 with 1 Axes>"
      ]
     },
     "metadata": {
      "needs_background": "light"
     },
     "output_type": "display_data"
    }
   ],
   "source": [
    "plt.figure(figsize=(16,8))\n",
    "sns.countplot(x='Initial_Admin', data=df)\n",
    "plt.show()"
   ]
  },
  {
   "cell_type": "markdown",
   "metadata": {},
   "source": [
    "Bivariate Analysis of two continuous variables “doc_visits”, “initial_days”  "
   ]
  },
  {
   "cell_type": "code",
   "execution_count": 47,
   "metadata": {},
   "outputs": [
    {
     "data": {
      "text/plain": [
       "<matplotlib.axes._subplots.AxesSubplot at 0x225a7d21d30>"
      ]
     },
     "execution_count": 47,
     "metadata": {},
     "output_type": "execute_result"
    },
    {
     "data": {
      "image/png": "[encoded data removed]",
      "text/plain": [
       "<Figure size 432x288 with 1 Axes>"
      ]
     },
     "metadata": {
      "needs_background": "light"
     },
     "output_type": "display_data"
    }
   ],
   "source": [
    "dfo.sample(1000).plot.scatter(x='Initial_Days', y='doc_visits')"
   ]
  },
  {
   "cell_type": "code",
   "execution_count": 48,
   "metadata": {},
   "outputs": [
    {
     "data": {
      "text/plain": [
       "<matplotlib.axes._subplots.AxesSubplot at 0x225a7f57be0>"
      ]
     },
     "execution_count": 48,
     "metadata": {},
     "output_type": "execute_result"
    },
    {
     "data": {
      "image/png": "[encoded data removed]",
      "text/plain": [
       "<Figure size 432x288 with 1 Axes>"
      ]
     },
     "metadata": {
      "needs_background": "light"
     },
     "output_type": "display_data"
    }
   ],
   "source": [
    "dfo.boxplot(column='Initial_Days', by='doc_visits')"
   ]
  },
  {
   "cell_type": "code",
   "execution_count": 49,
   "metadata": {},
   "outputs": [
    {
     "data": {
      "text/plain": [
       "<matplotlib.axes._subplots.AxesSubplot at 0x225a82853d0>"
      ]
     },
     "execution_count": 49,
     "metadata": {},
     "output_type": "execute_result"
    },
    {
     "data": {
      "image/png": "[encoded data removed]",
      "text/plain": [
       "<Figure size 2160x720 with 1 Axes>"
      ]
     },
     "metadata": {
      "needs_background": "light"
     },
     "output_type": "display_data"
    }
   ],
   "source": [
    "pd.crosstab(df['Initial_Days'], dfo['doc_visits']).plot(kind='bar', stacked=True, figsize=(30,10))"
   ]
  },
  {
   "cell_type": "markdown",
   "metadata": {},
   "source": [
    "bivariate Analysis of two categorical variables “State”, “Initial_admin” "
   ]
  },
  {
   "cell_type": "code",
   "execution_count": 50,
   "metadata": {},
   "outputs": [
    {
     "data": {
      "text/plain": [
       "Initial_Admin          State\n",
       "Elective Admission     AK        13\n",
       "                       AL        34\n",
       "                       AR        34\n",
       "                       AZ        26\n",
       "                       CA       116\n",
       "                               ... \n",
       "Observation Admission  VT        14\n",
       "                       WA        44\n",
       "                       WI        43\n",
       "                       WV        41\n",
       "                       WY        14\n",
       "Length: 156, dtype: int64"
      ]
     },
     "execution_count": 50,
     "metadata": {},
     "output_type": "execute_result"
    }
   ],
   "source": [
    "#two-way table\n",
    "grouped =  dfo.groupby(['Initial_Admin','State'])\n",
    "grouped.size()"
   ]
  },
  {
   "cell_type": "code",
   "execution_count": 51,
   "metadata": {},
   "outputs": [
    {
     "data": {
      "text/html": [
       "<div>\n",
       "<style scoped>\n",
       "    .dataframe tbody tr th:only-of-type {\n",
       "        vertical-align: middle;\n",
       "    }\n",
       "\n",
       "    .dataframe tbody tr th {\n",
       "        vertical-align: top;\n",
       "    }\n",
       "\n",
       "    .dataframe thead th {\n",
       "        text-align: right;\n",
       "    }\n",
       "</style>\n",
       "<table border=\"1\" class=\"dataframe\">\n",
       "  <thead>\n",
       "    <tr style=\"text-align: right;\">\n",
       "      <th>Initial_Admin</th>\n",
       "      <th>Elective Admission</th>\n",
       "      <th>Emergency Admission</th>\n",
       "      <th>Observation Admission</th>\n",
       "      <th>All</th>\n",
       "    </tr>\n",
       "    <tr>\n",
       "      <th>State</th>\n",
       "      <th></th>\n",
       "      <th></th>\n",
       "      <th></th>\n",
       "      <th></th>\n",
       "    </tr>\n",
       "  </thead>\n",
       "  <tbody>\n",
       "    <tr>\n",
       "      <th>AK</th>\n",
       "      <td>13</td>\n",
       "      <td>38</td>\n",
       "      <td>13</td>\n",
       "      <td>64</td>\n",
       "    </tr>\n",
       "    <tr>\n",
       "      <th>AL</th>\n",
       "      <td>34</td>\n",
       "      <td>92</td>\n",
       "      <td>44</td>\n",
       "      <td>170</td>\n",
       "    </tr>\n",
       "    <tr>\n",
       "      <th>AR</th>\n",
       "      <td>34</td>\n",
       "      <td>97</td>\n",
       "      <td>42</td>\n",
       "      <td>173</td>\n",
       "    </tr>\n",
       "    <tr>\n",
       "      <th>AZ</th>\n",
       "      <td>26</td>\n",
       "      <td>42</td>\n",
       "      <td>26</td>\n",
       "      <td>94</td>\n",
       "    </tr>\n",
       "    <tr>\n",
       "      <th>CA</th>\n",
       "      <td>116</td>\n",
       "      <td>243</td>\n",
       "      <td>129</td>\n",
       "      <td>488</td>\n",
       "    </tr>\n",
       "    <tr>\n",
       "      <th>CO</th>\n",
       "      <td>32</td>\n",
       "      <td>84</td>\n",
       "      <td>44</td>\n",
       "      <td>160</td>\n",
       "    </tr>\n",
       "    <tr>\n",
       "      <th>CT</th>\n",
       "      <td>21</td>\n",
       "      <td>36</td>\n",
       "      <td>15</td>\n",
       "      <td>72</td>\n",
       "    </tr>\n",
       "    <tr>\n",
       "      <th>DC</th>\n",
       "      <td>4</td>\n",
       "      <td>4</td>\n",
       "      <td>4</td>\n",
       "      <td>12</td>\n",
       "    </tr>\n",
       "    <tr>\n",
       "      <th>DE</th>\n",
       "      <td>2</td>\n",
       "      <td>10</td>\n",
       "      <td>5</td>\n",
       "      <td>17</td>\n",
       "    </tr>\n",
       "    <tr>\n",
       "      <th>FL</th>\n",
       "      <td>80</td>\n",
       "      <td>131</td>\n",
       "      <td>60</td>\n",
       "      <td>271</td>\n",
       "    </tr>\n",
       "    <tr>\n",
       "      <th>GA</th>\n",
       "      <td>48</td>\n",
       "      <td>129</td>\n",
       "      <td>39</td>\n",
       "      <td>216</td>\n",
       "    </tr>\n",
       "    <tr>\n",
       "      <th>HI</th>\n",
       "      <td>7</td>\n",
       "      <td>17</td>\n",
       "      <td>6</td>\n",
       "      <td>30</td>\n",
       "    </tr>\n",
       "    <tr>\n",
       "      <th>IA</th>\n",
       "      <td>52</td>\n",
       "      <td>130</td>\n",
       "      <td>61</td>\n",
       "      <td>243</td>\n",
       "    </tr>\n",
       "    <tr>\n",
       "      <th>ID</th>\n",
       "      <td>24</td>\n",
       "      <td>46</td>\n",
       "      <td>24</td>\n",
       "      <td>94</td>\n",
       "    </tr>\n",
       "    <tr>\n",
       "      <th>IL</th>\n",
       "      <td>93</td>\n",
       "      <td>191</td>\n",
       "      <td>98</td>\n",
       "      <td>382</td>\n",
       "    </tr>\n",
       "    <tr>\n",
       "      <th>IN</th>\n",
       "      <td>50</td>\n",
       "      <td>82</td>\n",
       "      <td>51</td>\n",
       "      <td>183</td>\n",
       "    </tr>\n",
       "    <tr>\n",
       "      <th>KS</th>\n",
       "      <td>51</td>\n",
       "      <td>94</td>\n",
       "      <td>52</td>\n",
       "      <td>197</td>\n",
       "    </tr>\n",
       "    <tr>\n",
       "      <th>KY</th>\n",
       "      <td>52</td>\n",
       "      <td>87</td>\n",
       "      <td>47</td>\n",
       "      <td>186</td>\n",
       "    </tr>\n",
       "    <tr>\n",
       "      <th>LA</th>\n",
       "      <td>43</td>\n",
       "      <td>74</td>\n",
       "      <td>40</td>\n",
       "      <td>157</td>\n",
       "    </tr>\n",
       "    <tr>\n",
       "      <th>MA</th>\n",
       "      <td>34</td>\n",
       "      <td>71</td>\n",
       "      <td>27</td>\n",
       "      <td>132</td>\n",
       "    </tr>\n",
       "    <tr>\n",
       "      <th>MD</th>\n",
       "      <td>42</td>\n",
       "      <td>58</td>\n",
       "      <td>22</td>\n",
       "      <td>122</td>\n",
       "    </tr>\n",
       "    <tr>\n",
       "      <th>ME</th>\n",
       "      <td>29</td>\n",
       "      <td>52</td>\n",
       "      <td>28</td>\n",
       "      <td>109</td>\n",
       "    </tr>\n",
       "    <tr>\n",
       "      <th>MI</th>\n",
       "      <td>77</td>\n",
       "      <td>101</td>\n",
       "      <td>62</td>\n",
       "      <td>240</td>\n",
       "    </tr>\n",
       "    <tr>\n",
       "      <th>MN</th>\n",
       "      <td>57</td>\n",
       "      <td>116</td>\n",
       "      <td>66</td>\n",
       "      <td>239</td>\n",
       "    </tr>\n",
       "    <tr>\n",
       "      <th>MO</th>\n",
       "      <td>62</td>\n",
       "      <td>170</td>\n",
       "      <td>69</td>\n",
       "      <td>301</td>\n",
       "    </tr>\n",
       "    <tr>\n",
       "      <th>MS</th>\n",
       "      <td>34</td>\n",
       "      <td>58</td>\n",
       "      <td>29</td>\n",
       "      <td>121</td>\n",
       "    </tr>\n",
       "    <tr>\n",
       "      <th>MT</th>\n",
       "      <td>31</td>\n",
       "      <td>42</td>\n",
       "      <td>29</td>\n",
       "      <td>102</td>\n",
       "    </tr>\n",
       "    <tr>\n",
       "      <th>NC</th>\n",
       "      <td>54</td>\n",
       "      <td>124</td>\n",
       "      <td>61</td>\n",
       "      <td>239</td>\n",
       "    </tr>\n",
       "    <tr>\n",
       "      <th>ND</th>\n",
       "      <td>18</td>\n",
       "      <td>49</td>\n",
       "      <td>30</td>\n",
       "      <td>97</td>\n",
       "    </tr>\n",
       "    <tr>\n",
       "      <th>NE</th>\n",
       "      <td>43</td>\n",
       "      <td>83</td>\n",
       "      <td>38</td>\n",
       "      <td>164</td>\n",
       "    </tr>\n",
       "    <tr>\n",
       "      <th>NH</th>\n",
       "      <td>16</td>\n",
       "      <td>30</td>\n",
       "      <td>22</td>\n",
       "      <td>68</td>\n",
       "    </tr>\n",
       "    <tr>\n",
       "      <th>NJ</th>\n",
       "      <td>37</td>\n",
       "      <td>89</td>\n",
       "      <td>32</td>\n",
       "      <td>158</td>\n",
       "    </tr>\n",
       "    <tr>\n",
       "      <th>NM</th>\n",
       "      <td>25</td>\n",
       "      <td>54</td>\n",
       "      <td>25</td>\n",
       "      <td>104</td>\n",
       "    </tr>\n",
       "    <tr>\n",
       "      <th>NV</th>\n",
       "      <td>14</td>\n",
       "      <td>23</td>\n",
       "      <td>7</td>\n",
       "      <td>44</td>\n",
       "    </tr>\n",
       "    <tr>\n",
       "      <th>NY</th>\n",
       "      <td>122</td>\n",
       "      <td>248</td>\n",
       "      <td>99</td>\n",
       "      <td>469</td>\n",
       "    </tr>\n",
       "    <tr>\n",
       "      <th>OH</th>\n",
       "      <td>85</td>\n",
       "      <td>180</td>\n",
       "      <td>79</td>\n",
       "      <td>344</td>\n",
       "    </tr>\n",
       "    <tr>\n",
       "      <th>OK</th>\n",
       "      <td>47</td>\n",
       "      <td>96</td>\n",
       "      <td>38</td>\n",
       "      <td>181</td>\n",
       "    </tr>\n",
       "    <tr>\n",
       "      <th>OR</th>\n",
       "      <td>28</td>\n",
       "      <td>55</td>\n",
       "      <td>26</td>\n",
       "      <td>109</td>\n",
       "    </tr>\n",
       "    <tr>\n",
       "      <th>PA</th>\n",
       "      <td>127</td>\n",
       "      <td>236</td>\n",
       "      <td>130</td>\n",
       "      <td>493</td>\n",
       "    </tr>\n",
       "    <tr>\n",
       "      <th>PR</th>\n",
       "      <td>12</td>\n",
       "      <td>19</td>\n",
       "      <td>6</td>\n",
       "      <td>37</td>\n",
       "    </tr>\n",
       "    <tr>\n",
       "      <th>RI</th>\n",
       "      <td>6</td>\n",
       "      <td>7</td>\n",
       "      <td>1</td>\n",
       "      <td>14</td>\n",
       "    </tr>\n",
       "    <tr>\n",
       "      <th>SC</th>\n",
       "      <td>20</td>\n",
       "      <td>55</td>\n",
       "      <td>32</td>\n",
       "      <td>107</td>\n",
       "    </tr>\n",
       "    <tr>\n",
       "      <th>SD</th>\n",
       "      <td>30</td>\n",
       "      <td>60</td>\n",
       "      <td>23</td>\n",
       "      <td>113</td>\n",
       "    </tr>\n",
       "    <tr>\n",
       "      <th>TN</th>\n",
       "      <td>47</td>\n",
       "      <td>85</td>\n",
       "      <td>38</td>\n",
       "      <td>170</td>\n",
       "    </tr>\n",
       "    <tr>\n",
       "      <th>TX</th>\n",
       "      <td>124</td>\n",
       "      <td>242</td>\n",
       "      <td>116</td>\n",
       "      <td>482</td>\n",
       "    </tr>\n",
       "    <tr>\n",
       "      <th>UT</th>\n",
       "      <td>24</td>\n",
       "      <td>25</td>\n",
       "      <td>19</td>\n",
       "      <td>68</td>\n",
       "    </tr>\n",
       "    <tr>\n",
       "      <th>VA</th>\n",
       "      <td>64</td>\n",
       "      <td>132</td>\n",
       "      <td>58</td>\n",
       "      <td>254</td>\n",
       "    </tr>\n",
       "    <tr>\n",
       "      <th>VT</th>\n",
       "      <td>15</td>\n",
       "      <td>24</td>\n",
       "      <td>14</td>\n",
       "      <td>53</td>\n",
       "    </tr>\n",
       "    <tr>\n",
       "      <th>WA</th>\n",
       "      <td>47</td>\n",
       "      <td>79</td>\n",
       "      <td>44</td>\n",
       "      <td>170</td>\n",
       "    </tr>\n",
       "    <tr>\n",
       "      <th>WI</th>\n",
       "      <td>49</td>\n",
       "      <td>103</td>\n",
       "      <td>43</td>\n",
       "      <td>195</td>\n",
       "    </tr>\n",
       "    <tr>\n",
       "      <th>WV</th>\n",
       "      <td>51</td>\n",
       "      <td>99</td>\n",
       "      <td>41</td>\n",
       "      <td>191</td>\n",
       "    </tr>\n",
       "    <tr>\n",
       "      <th>WY</th>\n",
       "      <td>11</td>\n",
       "      <td>20</td>\n",
       "      <td>14</td>\n",
       "      <td>45</td>\n",
       "    </tr>\n",
       "    <tr>\n",
       "      <th>All</th>\n",
       "      <td>2264</td>\n",
       "      <td>4512</td>\n",
       "      <td>2168</td>\n",
       "      <td>8944</td>\n",
       "    </tr>\n",
       "  </tbody>\n",
       "</table>\n",
       "</div>"
      ],
      "text/plain": [
       "Initial_Admin  Elective Admission  Emergency Admission  Observation Admission  \\\n",
       "State                                                                           \n",
       "AK                             13                   38                     13   \n",
       "AL                             34                   92                     44   \n",
       "AR                             34                   97                     42   \n",
       "AZ                             26                   42                     26   \n",
       "CA                            116                  243                    129   \n",
       "CO                             32                   84                     44   \n",
       "CT                             21                   36                     15   \n",
       "DC                              4                    4                      4   \n",
       "DE                              2                   10                      5   \n",
       "FL                             80                  131                     60   \n",
       "GA                             48                  129                     39   \n",
       "HI                              7                   17                      6   \n",
       "IA                             52                  130                     61   \n",
       "ID                             24                   46                     24   \n",
       "IL                             93                  191                     98   \n",
       "IN                             50                   82                     51   \n",
       "KS                             51                   94                     52   \n",
       "KY                             52                   87                     47   \n",
       "LA                             43                   74                     40   \n",
       "MA                             34                   71                     27   \n",
       "MD                             42                   58                     22   \n",
       "ME                             29                   52                     28   \n",
       "MI                             77                  101                     62   \n",
       "MN                             57                  116                     66   \n",
       "MO                             62                  170                     69   \n",
       "MS                             34                   58                     29   \n",
       "MT                             31                   42                     29   \n",
       "NC                             54                  124                     61   \n",
       "ND                             18                   49                     30   \n",
       "NE                             43                   83                     38   \n",
       "NH                             16                   30                     22   \n",
       "NJ                             37                   89                     32   \n",
       "NM                             25                   54                     25   \n",
       "NV                             14                   23                      7   \n",
       "NY                            122                  248                     99   \n",
       "OH                             85                  180                     79   \n",
       "OK                             47                   96                     38   \n",
       "OR                             28                   55                     26   \n",
       "PA                            127                  236                    130   \n",
       "PR                             12                   19                      6   \n",
       "RI                              6                    7                      1   \n",
       "SC                             20                   55                     32   \n",
       "SD                             30                   60                     23   \n",
       "TN                             47                   85                     38   \n",
       "TX                            124                  242                    116   \n",
       "UT                             24                   25                     19   \n",
       "VA                             64                  132                     58   \n",
       "VT                             15                   24                     14   \n",
       "WA                             47                   79                     44   \n",
       "WI                             49                  103                     43   \n",
       "WV                             51                   99                     41   \n",
       "WY                             11                   20                     14   \n",
       "All                          2264                 4512                   2168   \n",
       "\n",
       "Initial_Admin   All  \n",
       "State                \n",
       "AK               64  \n",
       "AL              170  \n",
       "AR              173  \n",
       "AZ               94  \n",
       "CA              488  \n",
       "CO              160  \n",
       "CT               72  \n",
       "DC               12  \n",
       "DE               17  \n",
       "FL              271  \n",
       "GA              216  \n",
       "HI               30  \n",
       "IA              243  \n",
       "ID               94  \n",
       "IL              382  \n",
       "IN              183  \n",
       "KS              197  \n",
       "KY              186  \n",
       "LA              157  \n",
       "MA              132  \n",
       "MD              122  \n",
       "ME              109  \n",
       "MI              240  \n",
       "MN              239  \n",
       "MO              301  \n",
       "MS              121  \n",
       "MT              102  \n",
       "NC              239  \n",
       "ND               97  \n",
       "NE              164  \n",
       "NH               68  \n",
       "NJ              158  \n",
       "NM              104  \n",
       "NV               44  \n",
       "NY              469  \n",
       "OH              344  \n",
       "OK              181  \n",
       "OR              109  \n",
       "PA              493  \n",
       "PR               37  \n",
       "RI               14  \n",
       "SC              107  \n",
       "SD              113  \n",
       "TN              170  \n",
       "TX              482  \n",
       "UT               68  \n",
       "VA              254  \n",
       "VT               53  \n",
       "WA              170  \n",
       "WI              195  \n",
       "WV              191  \n",
       "WY               45  \n",
       "All            8944  "
      ]
     },
     "execution_count": 51,
     "metadata": {},
     "output_type": "execute_result"
    }
   ],
   "source": [
    "pd.crosstab(dfo[\"State\"],\n",
    "            dfo[\"Initial_Admin\"],\n",
    "            dropna = False,\n",
    "            margins = True\n",
    "           )"
   ]
  },
  {
   "cell_type": "code",
   "execution_count": 52,
   "metadata": {},
   "outputs": [
    {
     "ename": "SyntaxError",
     "evalue": "invalid syntax (<ipython-input-52-dcb79933fc6d>, line 1)",
     "output_type": "error",
     "traceback": [
      "\u001b[1;36m  File \u001b[1;32m\"<ipython-input-52-dcb79933fc6d>\"\u001b[1;36m, line \u001b[1;32m1\u001b[0m\n\u001b[1;33m    Percentages of each state admision by category\u001b[0m\n\u001b[1;37m                ^\u001b[0m\n\u001b[1;31mSyntaxError\u001b[0m\u001b[1;31m:\u001b[0m invalid syntax\n"
     ]
    }
   ],
   "source": [
    "Percentages of each state admision by category"
   ]
  },
  {
   "cell_type": "code",
   "execution_count": null,
   "metadata": {},
   "outputs": [],
   "source": [
    "pd.crosstab(dfo['State'],\n",
    "            dfo['Initial_Admin'],\n",
    "            dropna = False,\n",
    "            normalize = 'index' # convert absolute to row proportions\n",
    "           ).round(3)*100"
   ]
  },
  {
   "cell_type": "code",
   "execution_count": null,
   "metadata": {},
   "outputs": [],
   "source": [
    "pd.crosstab(dfo['State'],\n",
    "            dfo['Initial_Admin'],\n",
    "            dropna = False,\n",
    "            normalize = 'columns' # convert absolute to column proportions\n",
    "           ).round(3)*100"
   ]
  },
  {
   "cell_type": "code",
   "execution_count": null,
   "metadata": {},
   "outputs": [],
   "source": [
    "\n"
   ]
  }
 ],
 "metadata": {
  "kernelspec": {
   "display_name": "Python 3",
   "language": "python",
   "name": "python3"
  },
  "language_info": {
   "codemirror_mode": {
    "name": "ipython",
    "version": 3
   },
   "file_extension": ".py",
   "mimetype": "text/x-python",
   "name": "python",
   "nbconvert_exporter": "python",
   "pygments_lexer": "ipython3",
   "version": "3.8.3"
  }
 },
 "nbformat": 4,
 "nbformat_minor": 4
}
